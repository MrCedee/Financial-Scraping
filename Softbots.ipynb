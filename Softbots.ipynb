{
 "cells": [
  {
   "attachments": {},
   "cell_type": "markdown",
   "metadata": {},
   "source": [
    "# Python Softbots"
   ]
  },
  {
   "attachments": {},
   "cell_type": "markdown",
   "metadata": {},
   "source": [
    "### Yahoo Finance"
   ]
  },
  {
   "cell_type": "code",
   "execution_count": 1,
   "metadata": {},
   "outputs": [],
   "source": [
    "import re\n",
    "import urllib\n",
    "import urllib.request as request\n",
    "\n",
    "symbols = {\n",
    "    \"google\": \"GOOG\",\n",
    "    \"meta\": \"META\",\n",
    "    \"tesla\": \"TSLA\",\n",
    "    \"nvidia\": \"NVDA\",\n",
    "    \"tsmc\": \"TSMC34.SA\"\n",
    "}\n",
    "\n",
    "base = \"https://es.finance.yahoo.com/quote/\"\n",
    "results = []\n",
    "for i in symbols:\n",
    "    req = request.Request(base + symbols[i])\n",
    "    req.add_header('User-Agent', 'Mozilla/5.0')\n",
    "    information = dict()\n",
    "\n",
    "    f = request.urlopen(req)\n",
    "    s = f.read().decode()\n",
    "    f.close()\n",
    "    \n",
    "    BPA = re.findall(r'<td.*?data-test=\"EPS_RATIO-value\">(.*?)</td',s)[0]\n",
    "    BPA = float(BPA.replace(\",\",\".\"))\n",
    "    \n",
    "    information[\"PER\"] = BPA\n",
    "    \n",
    "    price = re.findall(rf'<fin-streamer[^>]*data-symbol=\"{re.escape(symbols[i])}\"[^>]*data-field=\"regularMarketPrice\"[^>]*value=\"([\\d.,]+)\"',s)[0]\n",
    "\n",
    "    \n",
    "    information[\"Price\"] = price\n",
    "    results.append((i, information))\n"
   ]
  },
  {
   "cell_type": "code",
   "execution_count": 2,
   "metadata": {},
   "outputs": [
    {
     "data": {
      "text/plain": [
       "[('google', {'PER': 6.96, 'Price': '158.61'}),\n",
       " ('meta', {'PER': 19.55, 'Price': '511.76'}),\n",
       " ('tesla', {'PER': 3.56, 'Price': '210.6'}),\n",
       " ('nvidia', {'PER': 2.14, 'Price': '108'}),\n",
       " ('tsmc', {'PER': 0.79, 'Price': '112.85'})]"
      ]
     },
     "execution_count": 2,
     "metadata": {},
     "output_type": "execute_result"
    }
   ],
   "source": [
    "results"
   ]
  }
 ],
 "metadata": {
  "kernelspec": {
   "display_name": "base",
   "language": "python",
   "name": "python3"
  },
  "language_info": {
   "codemirror_mode": {
    "name": "ipython",
    "version": 3
   },
   "file_extension": ".py",
   "mimetype": "text/x-python",
   "name": "python",
   "nbconvert_exporter": "python",
   "pygments_lexer": "ipython3",
   "version": "3.10.6"
  },
  "orig_nbformat": 4,
  "vscode": {
   "interpreter": {
    "hash": "7752af0d017008986b0f806ca426c427aef172445ac6fb67448f9ed9dd3e3bf6"
   }
  }
 },
 "nbformat": 4,
 "nbformat_minor": 2
}
